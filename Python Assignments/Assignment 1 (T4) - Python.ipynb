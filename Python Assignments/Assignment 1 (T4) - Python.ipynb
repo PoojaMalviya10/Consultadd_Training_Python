{
 "cells": [
  {
   "cell_type": "markdown",
   "metadata": {},
   "source": [
    "### TASK 4 - TRADITIONAL FUNCTIONS,ANONYMOUS FUNCTIONS & HIGHER ORDER FUNCTIONS"
   ]
  },
  {
   "cell_type": "code",
   "execution_count": 1,
   "metadata": {},
   "outputs": [],
   "source": [
    "from functools import reduce"
   ]
  },
  {
   "cell_type": "markdown",
   "metadata": {},
   "source": [
    "#### 1. Write a program to reverse a string.\n",
    "\n",
    "Sample input: “1234abcd”\n",
    "\n",
    "Expected output: “dcba4321”"
   ]
  },
  {
   "cell_type": "code",
   "execution_count": 2,
   "metadata": {},
   "outputs": [
    {
     "name": "stdout",
     "output_type": "stream",
     "text": [
      "please enter a string: hey there\n",
      "Reversed string :  ereht yeh\n"
     ]
    }
   ],
   "source": [
    "string1 = str(raw_input('please enter a string: '))\n",
    "\n",
    "string2 = string1[::-1]\n",
    "\n",
    "print 'Reversed string : ',string2"
   ]
  },
  {
   "cell_type": "markdown",
   "metadata": {},
   "source": [
    "#### 2. Write a function that accepts a string and prints the number of uppercase letters and lowercase letters.\n",
    "\n",
    "Sample input: “abcSdefPghijQkl”\n",
    "\n",
    "Expected Output: \n",
    "\n",
    "No. of Uppercase characters : 3 \n",
    "\n",
    "No. of Lower case Characters : 12"
   ]
  },
  {
   "cell_type": "code",
   "execution_count": 3,
   "metadata": {},
   "outputs": [
    {
     "name": "stdout",
     "output_type": "stream",
     "text": [
      "Enter a string : The ASSignment\n",
      "No. of Uppercase characters :  4\n",
      "No. of Lowercase Characters :  9\n"
     ]
    }
   ],
   "source": [
    "def string_count(s):\n",
    "    \n",
    "    d={\"UPPER_CASE\":0, \"LOWER_CASE\":0}\n",
    "    for i in s:\n",
    "        if i.isupper():\n",
    "            d[\"UPPER_CASE\"]+=1\n",
    "        elif i.islower():\n",
    "            d[\"LOWER_CASE\"]+=1\n",
    "        else:\n",
    "            pass \n",
    "\n",
    "    print \"No. of Uppercase characters : \", d[\"UPPER_CASE\"]\n",
    "    print \"No. of Lowercase Characters : \", d[\"LOWER_CASE\"]\n",
    "\n",
    "string_count(raw_input('Enter a string : '))"
   ]
  },
  {
   "cell_type": "markdown",
   "metadata": {},
   "source": [
    "###### 3. Create a function that takes a list and returns a new list with unique elements of the first list."
   ]
  },
  {
   "cell_type": "code",
   "execution_count": 4,
   "metadata": {},
   "outputs": [
    {
     "name": "stdout",
     "output_type": "stream",
     "text": [
      "[10, 9, 8, 'a', 'b', 'c']\n"
     ]
    }
   ],
   "source": [
    "def uniqueL(l):\n",
    "    x = []\n",
    "    for i in l:\n",
    "        if i not in x:\n",
    "            x.append(i)\n",
    "    return x\n",
    "\n",
    "print(uniqueL([10,9,8,'a','b','c',8,9,10])) "
   ]
  },
  {
   "cell_type": "markdown",
   "metadata": {},
   "source": [
    "#### 4. Write a program that accepts a hyphen-separated sequence of words as input and prints the words in a hyphen-separated sequence after sorting them alphabetically."
   ]
  },
  {
   "cell_type": "code",
   "execution_count": 5,
   "metadata": {},
   "outputs": [
    {
     "name": "stdout",
     "output_type": "stream",
     "text": [
      "Type in: t-u-p-u-c-m\n",
      "c-m-p-t-u\n"
     ]
    }
   ],
   "source": [
    "sentence = raw_input(\"Type in: \")\n",
    "sentence_splited = sentence.split('-')\n",
    "\n",
    "x=[]\n",
    "for i in sentence_splited:\n",
    "    if i not in x:\n",
    "        x.append(i)\n",
    "    else:\n",
    "        continue\n",
    "x.sort()\n",
    "print('-'.join(x))"
   ]
  },
  {
   "cell_type": "markdown",
   "metadata": {},
   "source": [
    "#### 5. Write a program that accepts a sequence of lines as input and prints the lines after making all characters in the sentence capitalized.\n",
    "\n",
    "Sample input: Hello world Practice makes man perfect\n",
    "\n",
    "Expected output: HELLO WORLD PRACTICE MAKES MAN PERFECT"
   ]
  },
  {
   "cell_type": "code",
   "execution_count": 6,
   "metadata": {},
   "outputs": [
    {
     "name": "stdout",
     "output_type": "stream",
     "text": [
      "hello World\n",
      "\n",
      "HELLO WORLD\n"
     ]
    }
   ],
   "source": [
    "lines = []\n",
    "while True:\n",
    "    s = raw_input() #leave blank to stop\n",
    "    if s:\n",
    "        lines.append(s.upper())\n",
    "    else:\n",
    "        break\n",
    "for s in lines:\n",
    "    print(s)"
   ]
  },
  {
   "cell_type": "markdown",
   "metadata": {},
   "source": [
    "#### 6. Define a function that can receive two integral numbers in string form and compute their sum and print it in the console."
   ]
  },
  {
   "cell_type": "code",
   "execution_count": 7,
   "metadata": {},
   "outputs": [
    {
     "name": "stdout",
     "output_type": "stream",
     "text": [
      "sum : 187\n"
     ]
    }
   ],
   "source": [
    "def integralNumbers(x,y):\n",
    "    print \"sum :\", int(x) + int(y)\n",
    "    \n",
    "num1 = '99'\n",
    "num2 = '88'\n",
    "\n",
    "integralNumbers(num1, num2)\n",
    "\n",
    "## OR\n",
    "\n",
    "# L = raw_input(\"a = \"), input(\"b = \")\n",
    "# result = reduce(lambda a, b: (int(a) + int(b)), L)\n",
    "# print((result))"
   ]
  },
  {
   "cell_type": "markdown",
   "metadata": {},
   "source": [
    "#### 7. Define a function that can accept two strings as input and print the string with the maximum length in the console. If two strings have the same length, then the function should print both the strings line by line."
   ]
  },
  {
   "cell_type": "code",
   "execution_count": 8,
   "metadata": {},
   "outputs": [
    {
     "name": "stdout",
     "output_type": "stream",
     "text": [
      "First String: mankind \n",
      "Second String: Human\n",
      "mankind \n"
     ]
    }
   ],
   "source": [
    "def max_length(str1, str2):\n",
    "    if (len(str1) == len(str2)):\n",
    "        print(str1)\n",
    "        print(str2)\n",
    "\n",
    "    elif (len(str1) < len(str2)):\n",
    "        print(str2)\n",
    "    \n",
    "    else:\n",
    "        print(str1)\n",
    "\n",
    "string1 = raw_input(\"First String: \")\n",
    "string2 = raw_input(\"Second String: \")\n",
    "\n",
    "max_length(string1, string2)"
   ]
  },
  {
   "cell_type": "markdown",
   "metadata": {},
   "source": [
    "#### 8. Define a function which can generate and print a tuple where the values are square of numbers between 1 and 20 (both 1 and 20 included)."
   ]
  },
  {
   "cell_type": "code",
   "execution_count": 9,
   "metadata": {},
   "outputs": [
    {
     "name": "stdout",
     "output_type": "stream",
     "text": [
      "(1, 4, 9, 16, 25, 36, 49, 64, 81, 100, 121, 144, 169, 196, 225, 256, 289, 324, 361, 400)\n"
     ]
    }
   ],
   "source": [
    "def SquareTuple():\n",
    "    l = list()\n",
    "    for i in range(1,21):\n",
    "        l.append(i**2)\n",
    "    print(tuple(l))\n",
    "        \n",
    "SquareTuple()"
   ]
  },
  {
   "cell_type": "markdown",
   "metadata": {},
   "source": [
    "#### 9. Write a function called showNumbers that takes a parameter called limit. It should print all the numbers between 0 and limit with a label to identify the even and odd numbers.\n",
    "\n",
    "Sample input: show Numbers(3) (where limit=3)\n",
    "\n",
    "Expected output:\n",
    "\n",
    "0 EVEN\n",
    "\n",
    "1 ODD\n",
    "\n",
    "2 EVEN\n",
    "\n",
    "3 ODD"
   ]
  },
  {
   "cell_type": "code",
   "execution_count": 10,
   "metadata": {},
   "outputs": [
    {
     "name": "stdout",
     "output_type": "stream",
     "text": [
      "Enter a limit : 5\n",
      "0 EVEN\n",
      "1 ODD\n",
      "2 EVEN\n",
      "3 ODD\n",
      "4 EVEN\n",
      "5 ODD\n"
     ]
    }
   ],
   "source": [
    "def showNumbers(limit):\n",
    "    for i in range(0,limit+1):\n",
    "        if i%2!=0:\n",
    "            print i,'ODD'\n",
    "        else:\n",
    "            print i,'EVEN'\n",
    "\n",
    "showNumbers(input('Enter a limit : '))"
   ]
  },
  {
   "cell_type": "markdown",
   "metadata": {},
   "source": [
    "#### 10. Write a program which uses filter() to make a list whose elements are even numbers between 1 and 20 (both included)"
   ]
  },
  {
   "cell_type": "code",
   "execution_count": 11,
   "metadata": {},
   "outputs": [
    {
     "name": "stdout",
     "output_type": "stream",
     "text": [
      "[2, 4, 6, 8, 10, 12, 14, 16, 18, 20]\n"
     ]
    }
   ],
   "source": [
    "l = range(1,21)\n",
    "a = filter(lambda x: x%2==0, l)\n",
    "print(list(a))"
   ]
  },
  {
   "cell_type": "markdown",
   "metadata": {},
   "source": [
    "#### 11. Write a program which uses map() and filter() to make a list whose elements are squares of even numbers in [1,2,3,4,5,6,7,8,9,10].\n",
    "\n",
    "Hints: Use filter() to filter even elements of the given listUse map() to generate a list of squares of the numbers in the filtered list. Use lambda() to define anonymous functions.\n"
   ]
  },
  {
   "cell_type": "code",
   "execution_count": 12,
   "metadata": {},
   "outputs": [
    {
     "name": "stdout",
     "output_type": "stream",
     "text": [
      "[2, 4, 6, 8, 10]\n",
      "[4, 16, 36, 64, 100]\n"
     ]
    }
   ],
   "source": [
    "l = [1,2,3,4,5,6,7,8,9,10]\n",
    "evens = filter(lambda x: x%2==0, l)\n",
    "print (list(evens))\n",
    "\n",
    "SquareEvens = map(lambda f: f**2, evens)\n",
    "print(list(SquareEvens))"
   ]
  },
  {
   "cell_type": "markdown",
   "metadata": {},
   "source": [
    "#### 12. Write a function to compute 5/0 and use try/except to catch the exceptions"
   ]
  },
  {
   "cell_type": "code",
   "execution_count": 13,
   "metadata": {},
   "outputs": [
    {
     "name": "stdout",
     "output_type": "stream",
     "text": [
      "Dividing by 0?! Time to go back to elementary school!!\n"
     ]
    }
   ],
   "source": [
    "try:\n",
    "    x = 5/0\n",
    "    print(x)\n",
    "    \n",
    "except ZeroDivisionError:\n",
    "    print(\"Dividing by 0?! Time to go back to elementary school!!\")   "
   ]
  },
  {
   "cell_type": "markdown",
   "metadata": {},
   "source": [
    "#### 13. Flatten the list [1,2,3,4,5,6,7] into 1234567 using reduce()."
   ]
  },
  {
   "cell_type": "code",
   "execution_count": null,
   "metadata": {},
   "outputs": [],
   "source": [
    "     "
   ]
  },
  {
   "cell_type": "markdown",
   "metadata": {},
   "source": [
    "#### 14. Write a program in Python to find the values which are not divisible by 3 but are a multiple of 7. Make sure to use only higher order functions."
   ]
  },
  {
   "cell_type": "code",
   "execution_count": null,
   "metadata": {},
   "outputs": [],
   "source": []
  },
  {
   "cell_type": "markdown",
   "metadata": {},
   "source": [
    "#### 15. Write a program in Python to multiply the elements of a list by itself using a traditional function and pass the function to map() to complete the operation."
   ]
  },
  {
   "cell_type": "code",
   "execution_count": 14,
   "metadata": {},
   "outputs": [
    {
     "name": "stdout",
     "output_type": "stream",
     "text": [
      "1\n",
      "4\n",
      "9\n",
      "16\n",
      "25\n",
      "36\n",
      "49\n",
      "64\n"
     ]
    }
   ],
   "source": [
    "l = [1,2,3,4,5,6,7,8]\n",
    "\n",
    "def square(x):\n",
    "    return x * x\n",
    "\n",
    "l_squared = map(square, l)\n",
    "\n",
    "for l in l_squared:\n",
    "    print(l)"
   ]
  },
  {
   "cell_type": "markdown",
   "metadata": {},
   "source": [
    "#### 16. What is the output of the following codes:"
   ]
  },
  {
   "cell_type": "code",
   "execution_count": 15,
   "metadata": {},
   "outputs": [
    {
     "name": "stdout",
     "output_type": "stream",
     "text": [
      "2\n"
     ]
    }
   ],
   "source": [
    "def foo():\n",
    "    try:\n",
    "        return 1\n",
    "    finally:\n",
    "        return 2\n",
    "k = foo()\n",
    "print(k)\n",
    "\n",
    "# Output: 2"
   ]
  },
  {
   "cell_type": "code",
   "execution_count": 16,
   "metadata": {},
   "outputs": [
    {
     "name": "stdout",
     "output_type": "stream",
     "text": [
      "after f\n",
      "after f?\n"
     ]
    },
    {
     "ename": "NameError",
     "evalue": "global name 'f' is not defined",
     "output_type": "error",
     "traceback": [
      "\u001b[1;31m\u001b[0m",
      "\u001b[1;31mNameError\u001b[0mTraceback (most recent call last)",
      "\u001b[1;32m<ipython-input-16-109a211f175f>\u001b[0m in \u001b[0;36m<module>\u001b[1;34m()\u001b[0m\n\u001b[0;32m      5\u001b[0m         \u001b[1;32mprint\u001b[0m\u001b[1;33m(\u001b[0m\u001b[1;34m'after f'\u001b[0m\u001b[1;33m)\u001b[0m\u001b[1;33m\u001b[0m\u001b[0m\n\u001b[0;32m      6\u001b[0m         \u001b[1;32mprint\u001b[0m\u001b[1;33m(\u001b[0m\u001b[1;34m'after f?'\u001b[0m\u001b[1;33m)\u001b[0m\u001b[1;33m\u001b[0m\u001b[0m\n\u001b[1;32m----> 7\u001b[1;33m \u001b[0ma\u001b[0m\u001b[1;33m(\u001b[0m\u001b[1;33m)\u001b[0m\u001b[1;33m\u001b[0m\u001b[0m\n\u001b[0m\u001b[0;32m      8\u001b[0m \u001b[1;33m\u001b[0m\u001b[0m\n\u001b[0;32m      9\u001b[0m \u001b[1;31m# Output: global name 'f' is not defined\u001b[0m\u001b[1;33m\u001b[0m\u001b[1;33m\u001b[0m\u001b[0m\n",
      "\u001b[1;32m<ipython-input-16-109a211f175f>\u001b[0m in \u001b[0;36ma\u001b[1;34m()\u001b[0m\n\u001b[0;32m      1\u001b[0m \u001b[1;32mdef\u001b[0m \u001b[0ma\u001b[0m\u001b[1;33m(\u001b[0m\u001b[1;33m)\u001b[0m\u001b[1;33m:\u001b[0m\u001b[1;33m\u001b[0m\u001b[0m\n\u001b[0;32m      2\u001b[0m     \u001b[1;32mtry\u001b[0m\u001b[1;33m:\u001b[0m\u001b[1;33m\u001b[0m\u001b[0m\n\u001b[1;32m----> 3\u001b[1;33m         \u001b[0mf\u001b[0m\u001b[1;33m(\u001b[0m\u001b[0mx\u001b[0m\u001b[1;33m,\u001b[0m \u001b[1;36m4\u001b[0m\u001b[1;33m)\u001b[0m\u001b[1;33m\u001b[0m\u001b[0m\n\u001b[0m\u001b[0;32m      4\u001b[0m     \u001b[1;32mfinally\u001b[0m\u001b[1;33m:\u001b[0m\u001b[1;33m\u001b[0m\u001b[0m\n\u001b[0;32m      5\u001b[0m         \u001b[1;32mprint\u001b[0m\u001b[1;33m(\u001b[0m\u001b[1;34m'after f'\u001b[0m\u001b[1;33m)\u001b[0m\u001b[1;33m\u001b[0m\u001b[0m\n",
      "\u001b[1;31mNameError\u001b[0m: global name 'f' is not defined"
     ]
    }
   ],
   "source": [
    "def a():\n",
    "    try:\n",
    "        f(x, 4)\n",
    "    finally:\n",
    "        print('after f')\n",
    "        print('after f?')\n",
    "a()\n",
    "\n",
    "# Output: global name 'f' is not defined"
   ]
  },
  {
   "cell_type": "code",
   "execution_count": 17,
   "metadata": {},
   "outputs": [],
   "source": [
    "#---------------------------END-------------------------#"
   ]
  }
 ],
 "metadata": {
  "kernelspec": {
   "display_name": "Python 2",
   "language": "python",
   "name": "python2"
  },
  "language_info": {
   "codemirror_mode": {
    "name": "ipython",
    "version": 2
   },
   "file_extension": ".py",
   "mimetype": "text/x-python",
   "name": "python",
   "nbconvert_exporter": "python",
   "pygments_lexer": "ipython2",
   "version": "2.7.16"
  }
 },
 "nbformat": 4,
 "nbformat_minor": 2
}

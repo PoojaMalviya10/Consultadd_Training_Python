{
 "cells": [
  {
   "cell_type": "markdown",
   "metadata": {},
   "source": [
    "### TASK 5 - FILE HANDLING AND EXCEPTION HANDLING"
   ]
  },
  {
   "cell_type": "code",
   "execution_count": 1,
   "metadata": {},
   "outputs": [],
   "source": [
    "import sys"
   ]
  },
  {
   "cell_type": "markdown",
   "metadata": {},
   "source": [
    "#### 1. Write a program in Python to allow the error of syntax to be handled using exception handling.\n",
    "HINT: Use SyntaxError"
   ]
  },
  {
   "cell_type": "code",
   "execution_count": 2,
   "metadata": {},
   "outputs": [
    {
     "name": "stdout",
     "output_type": "stream",
     "text": [
      "Enter a valid input\n"
     ]
    }
   ],
   "source": [
    "try:\n",
    "    x = 6\n",
    "    y = x/y\n",
    "    \n",
    "    print(y)\n",
    "    \n",
    "except :\n",
    "    print ('Enter a valid input')"
   ]
  },
  {
   "cell_type": "markdown",
   "metadata": {},
   "source": [
    "#### 2. Write a program in Python to allow the user to open a file by using the argv module. If the entered name is incorrect throw an exception and ask them to enter the name again. Make sure to use read only mode."
   ]
  },
  {
   "cell_type": "code",
   "execution_count": 3,
   "metadata": {},
   "outputs": [
    {
     "name": "stdout",
     "output_type": "stream",
     "text": [
      "Entered filename is incorrect, enter again!\n"
     ]
    }
   ],
   "source": [
    "try:\n",
    "    f = open('df1.txt','r')\n",
    "    f = sys.argv[9]\n",
    "except:\n",
    "    print(\"Entered filename is incorrect, enter again!\")\n",
    "    \n",
    "else:\n",
    "    print(\"File doesn't exist\")"
   ]
  },
  {
   "cell_type": "markdown",
   "metadata": {},
   "source": [
    "#### 3. Write a program to handle an error if the user entered a number more than four digits it should return “The length is too short/long !!! Please provide only four digits”"
   ]
  },
  {
   "cell_type": "code",
   "execution_count": 4,
   "metadata": {},
   "outputs": [
    {
     "name": "stdout",
     "output_type": "stream",
     "text": [
      "Enter a 4 digit number =678\n",
      "The length is too short/long !!! Please provide only four digits\n"
     ]
    }
   ],
   "source": [
    "try:\n",
    "    l = raw_input('Enter a 4 digit number =')\n",
    "    if len(l) == 4:\n",
    "        print('Perfect!')\n",
    "    else:\n",
    "        raise ValueError\n",
    "except ValueError:\n",
    "    print('The length is too short/long !!! Please provide only four digits')"
   ]
  },
  {
   "cell_type": "markdown",
   "metadata": {},
   "source": [
    "#### 4. Create a login page backend to ask users to enter the username and password. Make sure to ask for a Re-Type Password and if the password is incorrect give chance to enter it again but it should not be more than 3 times."
   ]
  },
  {
   "cell_type": "code",
   "execution_count": 5,
   "metadata": {},
   "outputs": [
    {
     "name": "stdout",
     "output_type": "stream",
     "text": [
      "enter a username =pooja\n",
      "enter password =56\n",
      "re-type password =6678\n",
      "enter password =456\n",
      "re-type password =45\n",
      "enter password =567\n",
      "re-type password =568\n",
      "\n",
      "try again later!\n"
     ]
    }
   ],
   "source": [
    "username = raw_input('enter a username =') \n",
    "\n",
    "try:\n",
    "    counter = 1\n",
    "    while counter <= 3:\n",
    "        password = raw_input('enter password =')\n",
    "        ReType = raw_input('re-type password =') \n",
    "        counter = counter + 1\n",
    "\n",
    "        if password == ReType:\n",
    "            print('Hello and Welcome!')\n",
    "            break        \n",
    "        elif password != ReType:\n",
    "            continue\n",
    "    else:\n",
    "        raise ValueError\n",
    "\n",
    "except ValueError:\n",
    "    print('\\ntry again later!')"
   ]
  },
  {
   "cell_type": "markdown",
   "metadata": {},
   "source": [
    "# 5. Go through the link provided below to understand finally and raise concept:\n",
    "https://www.programiz.com/python-programming/exception-handling"
   ]
  },
  {
   "cell_type": "code",
   "execution_count": null,
   "metadata": {},
   "outputs": [],
   "source": []
  },
  {
   "cell_type": "markdown",
   "metadata": {},
   "source": [
    "#### 6. Read doc.txt file using Python File handling concept and return only the even length string from the file. Consider the content of doc.txt as given below: \n",
    "\n",
    "Hello I am a file\n",
    "\n",
    "Where you need to return the data string\n",
    "\n",
    "Which is of even length\n",
    "\n",
    "Make sure you return the content in The same link as it is present"
   ]
  },
  {
   "cell_type": "code",
   "execution_count": 6,
   "metadata": {},
   "outputs": [],
   "source": [
    "with open(\"doc.txt\",'w') as f:\n",
    "    f.write(\"Hello I am a file\\n\")\n",
    "    f.write(\"Where you need to return the data string\\n\")\n",
    "    f.write(\"Which is of even length\\n\")\n",
    "    f.write(\"Make sure you return the content in The same link as it is present\\n\")"
   ]
  },
  {
   "cell_type": "code",
   "execution_count": 7,
   "metadata": {},
   "outputs": [
    {
     "name": "stdout",
     "output_type": "stream",
     "text": [
      "Where you need to return the data string\n",
      "Make sure you return the content in The same link as it is present\n"
     ]
    }
   ],
   "source": [
    "doc = open(\"doc.txt\",\"r\")\n",
    "try:\n",
    "    for line in doc.readlines():\n",
    "        lines = line.strip('\\n')\n",
    "        words = line.split(\" \")\n",
    "        \n",
    "        if len(words)%2 == 0:\n",
    "            print(lines)\n",
    "        \n",
    "except:\n",
    "    pass"
   ]
  },
  {
   "cell_type": "code",
   "execution_count": 8,
   "metadata": {},
   "outputs": [],
   "source": [
    "#----------------------End------------------------#"
   ]
  }
 ],
 "metadata": {
  "kernelspec": {
   "display_name": "Python 2",
   "language": "python",
   "name": "python2"
  },
  "language_info": {
   "codemirror_mode": {
    "name": "ipython",
    "version": 2
   },
   "file_extension": ".py",
   "mimetype": "text/x-python",
   "name": "python",
   "nbconvert_exporter": "python",
   "pygments_lexer": "ipython2",
   "version": "2.7.16"
  }
 },
 "nbformat": 4,
 "nbformat_minor": 2
}

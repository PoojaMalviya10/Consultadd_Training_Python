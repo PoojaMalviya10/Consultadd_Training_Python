{
 "cells": [
  {
   "cell_type": "markdown",
   "metadata": {},
   "source": [
    "### TASK 7 - CLASSES AND OBJECTS"
   ]
  },
  {
   "cell_type": "markdown",
   "metadata": {},
   "source": [
    "#### 1. Write a program that calculates and prints the value according to the given formula:\n",
    "\n",
    "Q= Square root of [(2*C*D)/H]\n",
    "\n",
    "\n",
    "Following are the fixed values of C and H:\n",
    "\n",
    "C is 50.\n",
    "\n",
    "H is 30.\n",
    "\n",
    "D is a variable whose values should be input to your program \n",
    "in a comma-separated sequence."
   ]
  },
  {
   "cell_type": "code",
   "execution_count": 1,
   "metadata": {},
   "outputs": [
    {
     "name": "stdout",
     "output_type": "stream",
     "text": [
      "D: 5\n",
      "4.0\n"
     ]
    }
   ],
   "source": [
    "import math\n",
    "\n",
    "def sqr_root(D,C=50,H=30):\n",
    "    print(round(math.sqrt(2 * C * int(D) / H)))\n",
    "      \n",
    "sqr_root(input('D: '))"
   ]
  },
  {
   "cell_type": "markdown",
   "metadata": {},
   "source": [
    "#### 2. Define a class named Shape and its subclass Square. The Square class has an init function which takes length as argument. Both classes have an area function which can print the area of the shape where Shape’s area is 0 by default."
   ]
  },
  {
   "cell_type": "code",
   "execution_count": 2,
   "metadata": {},
   "outputs": [
    {
     "name": "stdout",
     "output_type": "stream",
     "text": [
      "5\n",
      "The area of a square with a side length of 5.000000 is 25.000000\n"
     ]
    }
   ],
   "source": [
    "class Shape:\n",
    "    area = 0\n",
    "        \n",
    "class Square(Shape):\n",
    "    def __init__(self, length):\n",
    "        self.length = length\n",
    "    \n",
    "    def area(self):\n",
    "        a = (self.length * self.length)\n",
    "        print('The area of a square with a side length of %f is %f' % (self.length, a))\n",
    "\n",
    "s = Square(input())\n",
    "s.area()"
   ]
  },
  {
   "cell_type": "markdown",
   "metadata": {},
   "source": [
    "#### 3. Create a class to find three elements that sum to zero from a set of n real numbers\n",
    "\n",
    "Input array: [-25,-10,-7,-3,2,4,8,10]\n",
    "\n",
    "Expected output: [[-10,2,8],[-7,-3,10]]"
   ]
  },
  {
   "cell_type": "code",
   "execution_count": 3,
   "metadata": {},
   "outputs": [
    {
     "name": "stdout",
     "output_type": "stream",
     "text": [
      "[[-10, 2, 8], [-7, -3, 10]]\n"
     ]
    }
   ],
   "source": [
    "class elements:  \n",
    "    def threeSum(self, nums):  \n",
    "        nums, result, i = sorted(nums), [], 0  \n",
    "        while i < len(nums) - 2:  \n",
    "            j, k = i + 1, len(nums) - 1  \n",
    "            while j < k:  \n",
    "                if nums[i] + nums[j] + nums[k] < 0:  \n",
    "                    j += 1  \n",
    "                elif nums[i] + nums[j] + nums[k] > 0:  \n",
    "                    k -= 1  \n",
    "                else:  \n",
    "                    result.append([nums[i], nums[j], nums[k]])  \n",
    "                    j, k = j + 1, k - 1  \n",
    "                    while j < k and nums[j] == nums[j - 1]:  \n",
    "                        j += 1  \n",
    "                    while j < k and nums[k] == nums[k + 1]:  \n",
    "                        k -= 1  \n",
    "            i += 1  \n",
    "            while i < len(nums) - 2 and nums[i] == nums[i - 1]:  \n",
    "                i += 1  \n",
    "        return result  \n",
    "\n",
    "print(elements().threeSum([-25, -10, -7, -3, 2, 4, 8, 10]))"
   ]
  },
  {
   "cell_type": "markdown",
   "metadata": {},
   "source": [
    "#### 4. Create a Time class and initialize it with hours and minutes.\n",
    "\n",
    "Create a method addTime which should take two Time objects and add them.\n",
    "\n",
    "E.g.- (2 hour and 50 min)+(1 hr and 20 min) is (4 hr and 10 min)\n",
    "\n",
    "Create another method displayTime which should print the time.\n",
    "\n",
    "Also create a method displayMinute which should display the total minutes in the Time.\n",
    "\n",
    "E.g.- (1 hr 2 min) should display 62 minute."
   ]
  },
  {
   "cell_type": "code",
   "execution_count": 4,
   "metadata": {},
   "outputs": [
    {
     "name": "stdout",
     "output_type": "stream",
     "text": [
      "Time is 4 hours and 50 minutes\n",
      "290 minutes\n"
     ]
    }
   ],
   "source": [
    "class  Time(object):\n",
    "\n",
    "    def __init__(self, hours, minutes):\n",
    "        self.hours = hours\n",
    "        self.minutes = minutes\n",
    "\n",
    "    def addTime(t1, t2):\n",
    "        t3 = Time(0, 0) # creating new object\n",
    "        t3.hours = t1.hours + t2.hours # sum of hours\n",
    "        t3.minutes = t1.minutes + t2.minutes # sum of minutes\n",
    "        while t3.minutes >= 60:\n",
    "            t3.hours += 1\n",
    "            t3.minutes -= 60\n",
    "        return t3\n",
    "\n",
    "    def displayTime(self):\n",
    "        print(\"Time is %d hours and %d minutes\" %(self.hours, self.minutes))\n",
    "\n",
    "    def displayMinute(self):\n",
    "        print self.hours * 60 + self.minutes, \"minutes\"\n",
    "        \n",
    "a = Time(1, 80)\n",
    "b = Time(1, 90)\n",
    "c = Time.addTime(a,b)\n",
    "\n",
    "c.displayTime()\n",
    "c.displayMinute()"
   ]
  },
  {
   "cell_type": "markdown",
   "metadata": {},
   "source": [
    "#### 5. Write a Person class with an instance variable “age” and a constructor that takes an integer as a parameter. The constructor must assign the integer value to the age variable after confirming the argument passed is not negative; if a negative argument is passed then the constructor should set age to 0 and print “Age is not valid, setting age to 0”. In addition, you must write the following instance methods:\n",
    "\n",
    "yearPasses() should increase age by the integer value that you are passing inside the function. \n",
    "\n",
    "amIOld() should perform the following conditional actions:\n",
    "\n",
    "If age is between 0 and <13, print “You are young”.\n",
    "\n",
    "If age is >=13 and <=19 , print “You are a teenager”. \n",
    "\n",
    "Otherwise, print “You are old”.\n",
    "\n",
    "Sample Input for amIOld():\n",
    "\n",
    "-1\n",
    "\n",
    "4\n",
    "\n",
    "10\n",
    "\n",
    "16\n",
    "\n",
    "18\n",
    "\n",
    "64\n",
    "\n",
    "38\n",
    "\n",
    "Expected Output for amIOld():\n",
    "\n",
    "###### Age is not valid, setting age to 0.\n",
    "\n",
    "###### You are young.\n",
    "\n",
    "###### You are young.\n",
    "\n",
    "###### You are a teenager.\n",
    "\n",
    "###### You are a teenager.\n",
    "\n",
    "###### You are old.\n",
    "\n",
    "###### You are old.\n",
    "\n",
    "Consider the age variable to be set to 38 then:\n",
    "\n",
    "Sample Input for yearPasses(): 4\n",
    "\n",
    "Expected Output for yearPasses(): 42"
   ]
  },
  {
   "cell_type": "code",
   "execution_count": 5,
   "metadata": {},
   "outputs": [
    {
     "name": "stdout",
     "output_type": "stream",
     "text": [
      "13\n",
      "You are a teenager.\n"
     ]
    }
   ],
   "source": [
    "class Person:\n",
    "    def __init__(self, initialAge):\n",
    "        if initialAge > 0:\n",
    "            self.age = initialAge  \n",
    "        else:\n",
    "            print ('Age is not valid, setting age to 0.')\n",
    "            self.age = 0\n",
    "                    \n",
    "    def amIOld(self):\n",
    "        if self.age>0 and self.age<=13:\n",
    "            print('You are young.')\n",
    "        elif self.age>13 and self.age <=19:\n",
    "            print('You are a teenager.')\n",
    "        else:\n",
    "            print('You are old.')\n",
    "    \n",
    "    def yearPasses(self):\n",
    "        self.age += 1\n",
    "\n",
    "x=Person(input())\n",
    "x.yearPasses()\n",
    "x.amIOld()"
   ]
  },
  {
   "cell_type": "code",
   "execution_count": 6,
   "metadata": {},
   "outputs": [],
   "source": [
    "### --------------------------------------END-----------------------------------------#"
   ]
  }
 ],
 "metadata": {
  "kernelspec": {
   "display_name": "Python 2",
   "language": "python",
   "name": "python2"
  },
  "language_info": {
   "codemirror_mode": {
    "name": "ipython",
    "version": 2
   },
   "file_extension": ".py",
   "mimetype": "text/x-python",
   "name": "python",
   "nbconvert_exporter": "python",
   "pygments_lexer": "ipython2",
   "version": "2.7.16"
  }
 },
 "nbformat": 4,
 "nbformat_minor": 2
}

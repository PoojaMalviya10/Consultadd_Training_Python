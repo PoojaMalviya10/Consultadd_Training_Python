{
 "cells": [
  {
   "cell_type": "markdown",
   "metadata": {},
   "source": [
    "### Task 1 - Numbers & Variables"
   ]
  },
  {
   "cell_type": "markdown",
   "metadata": {},
   "source": [
    "##### 1. Create three variables in a single line and assign values to them in such a manner that each one of them belongs to a different data type."
   ]
  },
  {
   "cell_type": "code",
   "execution_count": 1,
   "metadata": {},
   "outputs": [
    {
     "name": "stdout",
     "output_type": "stream",
     "text": [
      "<type 'int'>\n",
      "<type 'float'>\n",
      "<type 'str'>\n"
     ]
    }
   ],
   "source": [
    "a = 10\n",
    "b = 1.10\n",
    "c = 'Hey there!'\n",
    "\n",
    "print(type(a))\n",
    "print(type(b))\n",
    "print(type(c))"
   ]
  },
  {
   "cell_type": "markdown",
   "metadata": {},
   "source": [
    "##### 2. Create a variable of type complex and swap it with another variable of type integer."
   ]
  },
  {
   "cell_type": "code",
   "execution_count": 2,
   "metadata": {},
   "outputs": [
    {
     "name": "stdout",
     "output_type": "stream",
     "text": [
      "Before swapping: a =  <type 'complex'> and :b =  <type 'int'>\n",
      "After swapping: a =  <type 'int'> and : b =  <type 'complex'>\n"
     ]
    }
   ],
   "source": [
    "a = 10+5j\n",
    "b = 10\n",
    "\n",
    "print 'Before swapping: a = ', type(a), 'and :b = ', type(b)\n",
    "      \n",
    "a, b = b, a\n",
    "\n",
    "print 'After swapping: a = ', type(a), 'and : b = ', type(b)"
   ]
  },
  {
   "cell_type": "markdown",
   "metadata": {},
   "source": [
    "##### 3. Swap two numbers using a third variable and do the same task without using any third variable."
   ]
  },
  {
   "cell_type": "code",
   "execution_count": 3,
   "metadata": {},
   "outputs": [
    {
     "name": "stdout",
     "output_type": "stream",
     "text": [
      "Before swapping: a =  10 and b =  5\n",
      "After swapping:  a =  5  and b =  10\n"
     ]
    }
   ],
   "source": [
    "# Swap two numbers using a third variable\n",
    "\n",
    "a = 10\n",
    "b = 5\n",
    "\n",
    "print 'Before swapping: a = ', a, 'and b = ', b\n",
    "\n",
    "# swap 'a' and 'b'\n",
    "\n",
    "c = b\n",
    "b = a  \n",
    "a = c\n",
    "\n",
    "print 'After swapping:  a = ', a, ' and b = ', b"
   ]
  },
  {
   "cell_type": "code",
   "execution_count": 4,
   "metadata": {},
   "outputs": [
    {
     "name": "stdout",
     "output_type": "stream",
     "text": [
      "Before swapping: a =  10 and b =  5\n",
      "After swapping:  a =  5  and b =  10\n"
     ]
    }
   ],
   "source": [
    "# Swap two numbers without using any third variable\n",
    "\n",
    "a = 10\n",
    "b = 5\n",
    " \n",
    "print 'Before swapping: a = ', a, 'and b = ', b\n",
    " \n",
    "# swap 'a' and 'b'\n",
    "a, b = b, a\n",
    " \n",
    "print 'After swapping:  a = ', a, ' and b = ', b\n"
   ]
  },
  {
   "cell_type": "markdown",
   "metadata": {},
   "source": [
    "##### 4. Write a program that takes input from the user and prints it using both Python 2.x and Python 3.x Version."
   ]
  },
  {
   "cell_type": "code",
   "execution_count": 5,
   "metadata": {},
   "outputs": [
    {
     "name": "stdout",
     "output_type": "stream",
     "text": [
      "Say a nice word: 3\n",
      "3\n"
     ]
    }
   ],
   "source": [
    "# Python 2.x\n",
    "a = raw_input('Say a nice word: ')\n",
    "print a"
   ]
  },
  {
   "cell_type": "code",
   "execution_count": 6,
   "metadata": {},
   "outputs": [
    {
     "name": "stdout",
     "output_type": "stream",
     "text": [
      "Say a nice word: 'hi'\n",
      "hi\n"
     ]
    }
   ],
   "source": [
    "# Python 3.x\n",
    "a = input('Say a nice word: ')\n",
    "print (a)"
   ]
  },
  {
   "cell_type": "markdown",
   "metadata": {},
   "source": [
    "##### 5. Write a program to complete the task given below:\n",
    "Ask users to enter any 2 numbers in between 1-10 , add the two numbers and keep the sum in\n",
    "another variable called z. Add 30 to z and store the output in variable result and print result as the\n",
    "final output."
   ]
  },
  {
   "cell_type": "code",
   "execution_count": 7,
   "metadata": {},
   "outputs": [
    {
     "name": "stdout",
     "output_type": "stream",
     "text": [
      "Enter a number between 1-10: 3\n",
      "Enter a number between 1-10: 6\n"
     ]
    },
    {
     "data": {
      "text/plain": [
       "9"
      ]
     },
     "execution_count": 7,
     "metadata": {},
     "output_type": "execute_result"
    }
   ],
   "source": [
    "a = int(raw_input('Enter a number between 1-10: '))\n",
    "b = int(raw_input('Enter a number between 1-10: '))\n",
    "z = a + b\n",
    "z"
   ]
  },
  {
   "cell_type": "code",
   "execution_count": 8,
   "metadata": {},
   "outputs": [
    {
     "name": "stdout",
     "output_type": "stream",
     "text": [
      "Final output:  39\n"
     ]
    }
   ],
   "source": [
    "result = z + 30\n",
    "print 'Final output: ', result"
   ]
  },
  {
   "cell_type": "markdown",
   "metadata": {},
   "source": [
    "##### 6. Write a program to check the data type of the entered values.\n",
    "HINT: Printed output should say - The data type of the input value is : int/float/string/etc\n"
   ]
  },
  {
   "cell_type": "code",
   "execution_count": 9,
   "metadata": {},
   "outputs": [
    {
     "name": "stdout",
     "output_type": "stream",
     "text": [
      "Enter a value : 5\n",
      "The data type of the input value is : <type 'int'>\n"
     ]
    }
   ],
   "source": [
    "a = type(eval(raw_input('Enter a value : ')))\n",
    "print 'The data type of the input value is :', a"
   ]
  },
  {
   "cell_type": "markdown",
   "metadata": {},
   "source": [
    "##### 7. Create Variables using formats such as Upper CamelCase, Lower CamelCase, SnakeCase and UPPERCASE."
   ]
  },
  {
   "cell_type": "code",
   "execution_count": 10,
   "metadata": {},
   "outputs": [],
   "source": [
    "# Upper Camel Case is noted for having the first letter of the newly formed word in the upper case. \n",
    "MyVar = 'UpperCamelCase', 'HiThere'\n",
    "\n",
    "# Lower Camel Case is noted for having its first letter in lower case.\n",
    "myVar = 'lowerCamelCase', 'hiThere'\n",
    "\n",
    "# Snake case uses an underscore between words to create separation.\n",
    "my_var= 'snake_case', 'hi_there'\n",
    "\n",
    "# Upper case is written as capitals\n",
    "MYVAR = 'UPPERCASE', 'HITHERE'"
   ]
  },
  {
   "cell_type": "markdown",
   "metadata": {},
   "source": [
    "##### 8. If one data type value is assigned to ‘a’ variable and then a different data type value is assigned to ‘a’ again. Will it change the value? If Yes then Why?"
   ]
  },
  {
   "cell_type": "markdown",
   "metadata": {},
   "source": [
    "#### Ans -\n",
    "Yes, it will change the value and will keep the new value regerdless of the data type. After we have created a variable, we can assign and reassign its value as often as we like. "
   ]
  },
  {
   "cell_type": "code",
   "execution_count": 11,
   "metadata": {},
   "outputs": [
    {
     "name": "stdout",
     "output_type": "stream",
     "text": [
      "10\n"
     ]
    },
    {
     "data": {
      "text/plain": [
       "int"
      ]
     },
     "execution_count": 11,
     "metadata": {},
     "output_type": "execute_result"
    }
   ],
   "source": [
    "#Example\n",
    "\n",
    "# 'a' has been assigned a integer type value\n",
    "a = 10\n",
    "print a\n",
    "type(a)"
   ]
  },
  {
   "cell_type": "code",
   "execution_count": 12,
   "metadata": {},
   "outputs": [
    {
     "name": "stdout",
     "output_type": "stream",
     "text": [
      "Now it is a string\n"
     ]
    },
    {
     "data": {
      "text/plain": [
       "str"
      ]
     },
     "execution_count": 12,
     "metadata": {},
     "output_type": "execute_result"
    }
   ],
   "source": [
    "# 'a' has been assigned a new and string type value\n",
    "a = 'Now it is a string' \n",
    "print a\n",
    "type(a)"
   ]
  },
  {
   "cell_type": "code",
   "execution_count": 13,
   "metadata": {},
   "outputs": [
    {
     "data": {
      "text/plain": [
       "str"
      ]
     },
     "execution_count": 13,
     "metadata": {},
     "output_type": "execute_result"
    }
   ],
   "source": [
    "# 'a' will keep the new assigned value regardless of the data type\n",
    "type(a)"
   ]
  }
 ],
 "metadata": {
  "kernelspec": {
   "display_name": "Python 2",
   "language": "python",
   "name": "python2"
  },
  "language_info": {
   "codemirror_mode": {
    "name": "ipython",
    "version": 2
   },
   "file_extension": ".py",
   "mimetype": "text/x-python",
   "name": "python",
   "nbconvert_exporter": "python",
   "pygments_lexer": "ipython2",
   "version": "2.7.16"
  }
 },
 "nbformat": 4,
 "nbformat_minor": 2
}

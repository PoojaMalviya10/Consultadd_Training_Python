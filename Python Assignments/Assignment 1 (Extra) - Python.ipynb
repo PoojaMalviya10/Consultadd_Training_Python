{
 "cells": [
  {
   "cell_type": "markdown",
   "metadata": {},
   "source": [
    "### TASK EXTRA - DATA STRUCTURES\n"
   ]
  },
  {
   "cell_type": "code",
   "execution_count": 1,
   "metadata": {},
   "outputs": [],
   "source": [
    "import timeit"
   ]
  },
  {
   "cell_type": "markdown",
   "metadata": {},
   "source": [
    "#### 1. Create a list of given structure and get the Access list as provided below:\n",
    "\n",
    "x= [100,200,300,400,500,[1,2,3,4,5,[10,20,30,40,50],6,7,8,9],600,700,800]\n",
    "\n",
    "Access list: [1, 2, 3, 4]\n",
    "\n",
    "Access list: [600, 700]\n",
    "\n",
    "Access list: [100, 300, 500, 600, 800]\n",
    "\n",
    "Access list: [[800, 700, 600, [1, 2, 3, 4, 5, [10, 20, 30, 40, 50], 6, 7, 8, 9], 500, 400, 300, 200, 100]]\n",
    "\n",
    "Access list: [10]\n",
    "\n",
    "Access list: [ ]"
   ]
  },
  {
   "cell_type": "code",
   "execution_count": 2,
   "metadata": {},
   "outputs": [],
   "source": [
    "x=[100,200,300,400,500,[1,2,3,4,5,[10,20,30,40,50],6,7,8,9],600,700,800]"
   ]
  },
  {
   "cell_type": "code",
   "execution_count": 3,
   "metadata": {},
   "outputs": [
    {
     "name": "stdout",
     "output_type": "stream",
     "text": [
      "Access list: [1, 2, 3, 4]\n"
     ]
    }
   ],
   "source": [
    "a = x[5][:4]\n",
    "print 'Access list:',a"
   ]
  },
  {
   "cell_type": "code",
   "execution_count": 4,
   "metadata": {},
   "outputs": [
    {
     "name": "stdout",
     "output_type": "stream",
     "text": [
      "Access list: [600, 700]\n"
     ]
    }
   ],
   "source": [
    "b = x[-3:-1]\n",
    "print 'Access list:',b"
   ]
  },
  {
   "cell_type": "code",
   "execution_count": 5,
   "metadata": {},
   "outputs": [
    {
     "name": "stdout",
     "output_type": "stream",
     "text": [
      "Access list: [100, 300, 500, 600, 800]\n"
     ]
    }
   ],
   "source": [
    "c = x[::2]\n",
    "print 'Access list:',c"
   ]
  },
  {
   "cell_type": "code",
   "execution_count": 6,
   "metadata": {},
   "outputs": [
    {
     "name": "stdout",
     "output_type": "stream",
     "text": [
      "Access list: [800, 700, 600, [1, 2, 3, 4, 5, [10, 20, 30, 40, 50], 6, 7, 8, 9], 500, 400, 300, 200, 100]\n"
     ]
    }
   ],
   "source": [
    "d = x[::-1]\n",
    "print 'Access list:',d"
   ]
  },
  {
   "cell_type": "code",
   "execution_count": 7,
   "metadata": {},
   "outputs": [
    {
     "name": "stdout",
     "output_type": "stream",
     "text": [
      "Access list: [10]\n"
     ]
    }
   ],
   "source": [
    "e = x[5][5][:1]\n",
    "print 'Access list:',e"
   ]
  },
  {
   "cell_type": "code",
   "execution_count": 8,
   "metadata": {},
   "outputs": [
    {
     "name": "stdout",
     "output_type": "stream",
     "text": [
      "Access list: []\n"
     ]
    }
   ],
   "source": [
    "f = x[:0]\n",
    "print 'Access list:',f"
   ]
  },
  {
   "cell_type": "markdown",
   "metadata": {},
   "source": [
    "#### 2. Create a list of thousand numbers using range and xrange and see the difference between each other.\n",
    "(For reference:https://www.techbeamers.com/python-xrange-range/)"
   ]
  },
  {
   "cell_type": "code",
   "execution_count": 9,
   "metadata": {},
   "outputs": [],
   "source": [
    "# xrange is faster than the standard range function."
   ]
  },
  {
   "cell_type": "code",
   "execution_count": 10,
   "metadata": {},
   "outputs": [
    {
     "data": {
      "text/plain": [
       "0.1790704"
      ]
     },
     "execution_count": 10,
     "metadata": {},
     "output_type": "execute_result"
    }
   ],
   "source": [
    "r = [i for i in range(0,1000)]\n",
    "timeit.timeit('\"-\".join(str(num) for num in range(1000))', number=1000)"
   ]
  },
  {
   "cell_type": "code",
   "execution_count": 11,
   "metadata": {},
   "outputs": [
    {
     "data": {
      "text/plain": [
       "0.1702202"
      ]
     },
     "execution_count": 11,
     "metadata": {},
     "output_type": "execute_result"
    }
   ],
   "source": [
    "xr = [i for i in xrange(0,1000)]\n",
    "timeit.timeit('\"-\".join(str(num) for num in xrange(1000))', number=1000)"
   ]
  },
  {
   "cell_type": "markdown",
   "metadata": {},
   "source": [
    "#### 3. How Tuple is beneficial as compared to the list?"
   ]
  },
  {
   "cell_type": "code",
   "execution_count": 12,
   "metadata": {},
   "outputs": [],
   "source": [
    "# Tuples are immutable so, It doesn't require extra space to store new objects and hence are memory efficient.\n",
    "# Tuples are faster than lists, because they have a constant set of values"
   ]
  },
  {
   "cell_type": "markdown",
   "metadata": {},
   "source": [
    "#### 4. Write a program in Python to iterate through the list of numbers in the range of 1,100 and print the number which is divisible by 3 and is a multiple of 2."
   ]
  },
  {
   "cell_type": "code",
   "execution_count": 13,
   "metadata": {},
   "outputs": [
    {
     "name": "stdout",
     "output_type": "stream",
     "text": [
      "[6, 12, 18, 24, 30, 36, 42, 48, 54, 60, 66, 72, 78, 84, 90, 96]\n"
     ]
    }
   ],
   "source": [
    "l = [i for i in range(1,100) if i%3==0 and i%2==0]\n",
    "print(l)"
   ]
  },
  {
   "cell_type": "markdown",
   "metadata": {},
   "source": [
    "#### 5. Write a program in Python to reverse a string and print only the vowel alphabet if it exists in the string with their index."
   ]
  },
  {
   "cell_type": "code",
   "execution_count": null,
   "metadata": {},
   "outputs": [],
   "source": []
  },
  {
   "cell_type": "markdown",
   "metadata": {},
   "source": [
    "#### 6. Write a program in Python to iterate through the string “hello my name is abcde” and print the string which is having an even length."
   ]
  },
  {
   "cell_type": "code",
   "execution_count": 14,
   "metadata": {},
   "outputs": [
    {
     "name": "stdout",
     "output_type": "stream",
     "text": [
      "['my', 'name', 'is', 'Bond']\n"
     ]
    }
   ],
   "source": [
    "s = [i for i in \"hello my name is James Bond\".split() if len(i)%2==0]\n",
    "print(s)"
   ]
  },
  {
   "cell_type": "markdown",
   "metadata": {},
   "source": [
    "#### 7. Write a program in python to print the pair of numbers whose sum is equal to the result number that is let's say 8.\n",
    "\n",
    "x=[1,2,3,4,5,6,7,8,9,-1]"
   ]
  },
  {
   "cell_type": "code",
   "execution_count": 15,
   "metadata": {},
   "outputs": [
    {
     "name": "stdout",
     "output_type": "stream",
     "text": [
      "Pair with sum 8 is (5, 3)\n",
      "Pair with sum 8 is (6, 2)\n",
      "Pair with sum 8 is (7, 1)\n",
      "Pair with sum 8 is (-1, 9)\n"
     ]
    }
   ],
   "source": [
    "def printPairs(a, a_size, sum):\n",
    "    s = set()\n",
    "    for i in range(0, a_size):\n",
    "        temp = sum-a[i]\n",
    "        if (temp in s):\n",
    "            print \"Pair with sum \"+ str(sum) +\" is (\" + str(a[i]) + \", \" + str(temp) + \")\"\n",
    "        s.add(a[i])\n",
    "\n",
    "A = [1,2,3,4,5,6,7,8,9,-1]\n",
    "n = 8\n",
    "printPairs(A, len(A), n)"
   ]
  },
  {
   "cell_type": "markdown",
   "metadata": {},
   "source": [
    "#### 8. Write a program in Python to complete the following task:\n",
    "\n",
    "Create two lists such as even_list and odd_list\n",
    "\n",
    "Ask user to enter a number in the range of 1,50 and make sure if the entered number is even, append it to the even_list and if the entered number is odd append it to the odd_list.\n",
    "\n",
    "Keep that in mind you can only add 5 items in each list\n",
    "\n",
    "Make sure once you enter all the 5 elements, calculate the sum of the list and return the maximum of the list."
   ]
  },
  {
   "cell_type": "code",
   "execution_count": 8,
   "metadata": {},
   "outputs": [
    {
     "name": "stdout",
     "output_type": "stream",
     "text": [
      "Enter a number : 22\n",
      "Enter a number : 11\n",
      "Enter a number : 33\n",
      "Enter a number : 23\n",
      "Enter a number : 43\n",
      "Enter a number : 22\n",
      "Enter a number : 32\n",
      "Enter a number : 12\n",
      "Enter a number : 21\n",
      "Enter a number : 6\n",
      "Even List :  [22, 22, 32, 12, 6] \n",
      "\n",
      "max of even_list:  32\n",
      "sum of even_list :  94 \n",
      "\n",
      "Odd List :  [11, 33, 23, 43, 21] \n",
      "\n",
      "max of odd_list :  43\n",
      "sum of odd_list :  131\n"
     ]
    }
   ],
   "source": [
    "even_list = []\n",
    "odd_list = []\n",
    "\n",
    "len(even_list)<5\n",
    "len(odd_list)<5\n",
    "\n",
    "num=0\n",
    "while num<10:\n",
    "    x = input('Enter a number : ')\n",
    "    num=num+1\n",
    "    if x in range(1,50) and x%2==0:\n",
    "        even_list.append(x)\n",
    "    elif x in range(1,50) and x%2!=0:\n",
    "        odd_list.append(x) \n",
    "        \n",
    "\n",
    "print 'Even List : ',even_list,'\\n'\n",
    "print 'max of even_list: ',max(even_list)\n",
    "print 'sum of even_list : ',sum(even_list),'\\n'\n",
    "\n",
    "print 'Odd List : ',odd_list,'\\n'\n",
    "print 'max of odd_list : ',max(odd_list)  \n",
    "print 'sum of odd_list : ',sum(odd_list)"
   ]
  },
  {
   "cell_type": "markdown",
   "metadata": {},
   "source": [
    "#### 9. Write a program to find out the occurrence of a specific character from an alphanumeric string.\n",
    "\n",
    "Sample input: 12abcbacbaba344ab\n",
    "\n",
    "Expected output: a=5 b=5 c=2\n",
    "\n",
    "NOTE: Make sure to avoid counting the occurrence of numeric values in the string."
   ]
  },
  {
   "cell_type": "code",
   "execution_count": 17,
   "metadata": {},
   "outputs": [
    {
     "name": "stdout",
     "output_type": "stream",
     "text": [
      "{'a': 5, 'c': 2, 'b': 5}\n"
     ]
    }
   ],
   "source": [
    "s = ('12abcbacbaba344ab')\n",
    "d = {i:s.count(i) for i in s if i.isalpha()}\n",
    "print (d)"
   ]
  },
  {
   "cell_type": "markdown",
   "metadata": {},
   "source": [
    "#### 10. Generate and print another tuple whose values are even numbers in the given tuple (1,2,3,4,5,6,7,8,9,10)."
   ]
  },
  {
   "cell_type": "code",
   "execution_count": 18,
   "metadata": {},
   "outputs": [
    {
     "name": "stdout",
     "output_type": "stream",
     "text": [
      "(2, 4, 6, 8, 10)\n"
     ]
    }
   ],
   "source": [
    "t = (1,2,3,4,5,6,7,8,9,10)\n",
    "\n",
    "x= tuple([i for i in t if i%2==0])\n",
    "print(x)"
   ]
  },
  {
   "cell_type": "code",
   "execution_count": 19,
   "metadata": {},
   "outputs": [
    {
     "data": {
      "text/plain": [
       "tuple"
      ]
     },
     "execution_count": 19,
     "metadata": {},
     "output_type": "execute_result"
    }
   ],
   "source": [
    "type(x)"
   ]
  },
  {
   "cell_type": "code",
   "execution_count": 20,
   "metadata": {},
   "outputs": [],
   "source": [
    "#--------------------------------END-----------------------------------#"
   ]
  }
 ],
 "metadata": {
  "kernelspec": {
   "display_name": "Python 2",
   "language": "python",
   "name": "python2"
  }
 },
 "nbformat": 4,
 "nbformat_minor": 2
}

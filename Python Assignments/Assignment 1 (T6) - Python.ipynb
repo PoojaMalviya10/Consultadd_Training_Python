{
 "cells": [
  {
   "cell_type": "markdown",
   "metadata": {},
   "source": [
    "### TASK 6 - GENERATORS, LIST COMPREHENSION AND DECORATORS"
   ]
  },
  {
   "cell_type": "code",
   "execution_count": 17,
   "metadata": {},
   "outputs": [],
   "source": [
    "from itertools import izip_longest\n",
    "from __future__ import print_function"
   ]
  },
  {
   "cell_type": "markdown",
   "metadata": {},
   "source": [
    "#### 1. Write a program in Python to find out the character in a string which is uppercase using list comprehension.\n",
    "\n",
    "Input String = “Consultadd Training”\n"
   ]
  },
  {
   "cell_type": "code",
   "execution_count": 38,
   "metadata": {},
   "outputs": [
    {
     "name": "stdout",
     "output_type": "stream",
     "text": [
      "['C', 'T']\n"
     ]
    }
   ],
   "source": [
    "l = [i for i in 'Consultadd Training' if i.isupper()]\n",
    "print(l)"
   ]
  },
  {
   "cell_type": "markdown",
   "metadata": {},
   "source": [
    "#### 2. Write a program to construct a dictionary from the two lists containing the names of students and their corresponding subjects. The dictionary should map the students with their respective subjects. Let’s see how to do this using for loops and dictionary comprehension.\n",
    "\n",
    "HINT - Use Zip function also\n",
    "\n",
    "Sample input: \n",
    "\n",
    "students = ['Smit', 'Jaya', 'Rayyan'] \n",
    "\n",
    "subjects = ['CSE', 'Networking', 'Operating System']\n",
    "\n",
    "Expected output: {‘Smit’ : ’CSE’ , ’Jaya’ : ’Networking’ , ’Rayyan’ : ’Operating System’}"
   ]
  },
  {
   "cell_type": "code",
   "execution_count": 1,
   "metadata": {},
   "outputs": [],
   "source": [
    "students = ['Smit', 'Jaya', 'Rayyan']\n",
    "\n",
    "subjects = ['CSE', 'Networking', 'Operating System']"
   ]
  },
  {
   "cell_type": "code",
   "execution_count": 5,
   "metadata": {},
   "outputs": [
    {
     "name": "stdout",
     "output_type": "stream",
     "text": [
      "{'Jaya': 'Networking', 'Rayyan': 'Operating System', 'Smit': 'CSE'}\n"
     ]
    }
   ],
   "source": [
    "a = zip(students, subjects)\n",
    "\n",
    "d = {k:v for (k,v) in a}\n",
    "print (d)"
   ]
  },
  {
   "cell_type": "markdown",
   "metadata": {},
   "source": [
    "#### 3. Learn More about Yield, next and Generators"
   ]
  },
  {
   "cell_type": "markdown",
   "metadata": {},
   "source": [
    "#### 4. Write a program in Python using generators to reverse the string."
   ]
  },
  {
   "cell_type": "code",
   "execution_count": 1,
   "metadata": {},
   "outputs": [
    {
     "name": "stdout",
     "output_type": "stream",
     "text": [
      "yppaH\n"
     ]
    }
   ],
   "source": [
    "def rev_str(s):\n",
    "    yield s[::-1]\n",
    "\n",
    "for x in rev_str(\"Happy\"):\n",
    "    print(x)"
   ]
  },
  {
   "cell_type": "markdown",
   "metadata": {},
   "source": [
    "#### 5. Write an example on decorators."
   ]
  },
  {
   "cell_type": "code",
   "execution_count": null,
   "metadata": {},
   "outputs": [],
   "source": []
  },
  {
   "cell_type": "markdown",
   "metadata": {},
   "source": [
    "#-------------------------------------------------------END-------------------------------------------------------------#"
   ]
  }
 ],
 "metadata": {
  "kernelspec": {
   "display_name": "Python 2",
   "language": "python",
   "name": "python2"
  },
  "language_info": {
   "codemirror_mode": {
    "name": "ipython",
    "version": 2
   },
   "file_extension": ".py",
   "mimetype": "text/x-python",
   "name": "python",
   "nbconvert_exporter": "python",
   "pygments_lexer": "ipython2",
   "version": "2.7.16"
  }
 },
 "nbformat": 4,
 "nbformat_minor": 2
}

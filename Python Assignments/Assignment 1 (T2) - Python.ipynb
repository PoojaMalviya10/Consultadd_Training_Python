{
 "cells": [
  {
   "cell_type": "markdown",
   "metadata": {},
   "source": [
    "### TASK 2 -  OPERATORS AND DECISION MAKING STATEMENT"
   ]
  },
  {
   "cell_type": "markdown",
   "metadata": {},
   "source": [
    "#### 1. Write a program in Python to perform the following operation:\n",
    "If a number is divisible by 3 it should print “Consultadd” as a string.\n",
    "\n",
    "If a number is divisible by 5 it should print “Python Training” as a string.\n",
    "\n",
    "If a number is divisible by both 3 and 5 it should print “Consultadd - Python Training” as a\n",
    "string."
   ]
  },
  {
   "cell_type": "code",
   "execution_count": 4,
   "metadata": {},
   "outputs": [
    {
     "name": "stdout",
     "output_type": "stream",
     "text": [
      "Enter any number= :9\n",
      "Consultadd\n"
     ]
    }
   ],
   "source": [
    "x = int(input('Enter any number= :'))\n",
    "\n",
    "if x%3 ==0 and x%5 ==0:\n",
    "    print('Consultadd - Python Training')\n",
    "\n",
    "elif x%3 ==0:\n",
    "    print('Consultadd')\n",
    "\n",
    "elif x%5 ==0:\n",
    "    print('Python Training')"
   ]
  },
  {
   "cell_type": "markdown",
   "metadata": {},
   "source": [
    "#### 2. Write a program in Python to perform the following operator based task:\n",
    "#### Ask user to choose the following option first:\n",
    "\n",
    "If User Enter 1 - Addition\n",
    "\n",
    "If User Enter 2 - Subtraction\n",
    "\n",
    "If User Enter 3 - Division\n",
    "\n",
    "If User Enter 4 - Multiplication\n",
    "\n",
    "If User Enter 5 - Average\n",
    "#### Ask user to enter two numbers and keep those numbers in variables num1 and num2 respectively for the first 4 options mentioned above.\n",
    "#### Ask the user to enter two more numbers as first and second for calculating the average as soon as the user chooses an option 5.\n",
    "#### At the end if the answer of any operation is Negative print a statement saying “NEGATIVE” \n",
    "\n",
    "NOTE: At a time a user can only perform one action."
   ]
  },
  {
   "cell_type": "code",
   "execution_count": 4,
   "metadata": {
    "scrolled": true
   },
   "outputs": [
    {
     "name": "stdout",
     "output_type": "stream",
     "text": [
      "Choose a number from\n",
      " 1 - Addition \n",
      " 2 - Subtraction \n",
      " 3 - Division \n",
      " 4 - Multiplication \n",
      " 5 - Average \n",
      "3\n",
      "Enter a number = 4\n",
      "Enter a number = 2\n",
      "Division is  2\n"
     ]
    }
   ],
   "source": [
    "x= int(input('Choose a number from\\n 1 - Addition \\n 2 - Subtraction \\n 3 - Division \\n 4 - Multiplication \\n 5 - Average \\n'))\n",
    "\n",
    "if x in [1,2,3,4,5]:\n",
    "    num1= int(input('Enter a number = '))\n",
    "    num2= int(input('Enter a number = '))\n",
    "   \n",
    "    if x==1:\n",
    "        print 'Addition is ',num1+num2\n",
    "        if num1+num2 < 0:\n",
    "            print('NEGATIVE')\n",
    "    elif x==2:\n",
    "        print 'Subtraction is ',num1-num2\n",
    "        if num1-num2 < 0:\n",
    "            print('NEGATIVE')\n",
    "    elif x==3:        \n",
    "        print 'Division is ',num1/num2\n",
    "        if num1%num2 < 0:\n",
    "            print('NEGATIVE')\n",
    "    elif x==4:\n",
    "        print 'Multiplication is ',num1*num2\n",
    "        if num1*num2 < 0:\n",
    "            print('NEGATIVE')\n",
    "    else:\n",
    "        first = int(input('Enter a number = '))\n",
    "        Second= int(input('Enter a number = '))\n",
    "        print 'Average is ',(num1+num2+first+Second)/4\n",
    "        if (num1+num2+first+Second)/4 < 0:\n",
    "            print('NEGATIVE')"
   ]
  },
  {
   "cell_type": "markdown",
   "metadata": {},
   "source": [
    "#### 3. Write a program in Python to implement the given flowchart:"
   ]
  },
  {
   "cell_type": "code",
   "execution_count": 6,
   "metadata": {},
   "outputs": [
    {
     "name": "stdout",
     "output_type": "stream",
     "text": [
      "avg = 20\n",
      "avg is just higher than a\n"
     ]
    }
   ],
   "source": [
    "a,b,c=10,20,30\n",
    "\n",
    "avg = (a+b+c)/3\n",
    "print 'avg =', avg\n",
    "\n",
    "if avg>a and avg>b and avg>c:\n",
    "    print('avg is higher than a,b,c')\n",
    "    \n",
    "else:\n",
    "    if avg>a and avg >b:\n",
    "        print('avg is higher than a,b')\n",
    "    \n",
    "    elif avg>a and avg >c:\n",
    "        print('avg is higher than a,c')\n",
    "    \n",
    "    elif avg>b and avg >c:\n",
    "        print('avg is higher than b,c')\n",
    "    \n",
    "    elif avg>a:\n",
    "        print('avg is just higher than a')\n",
    "    \n",
    "    elif avg>b:\n",
    "        print('avg is just higher than b')\n",
    "    \n",
    "    elif avg>c:\n",
    "        print('avg is just higher than c')"
   ]
  },
  {
   "cell_type": "markdown",
   "metadata": {},
   "source": [
    "#### 4. Write a program in Python to break and continue if the following cases occurs:"
   ]
  },
  {
   "cell_type": "markdown",
   "metadata": {},
   "source": [
    "If user enters a negative number just break the loop and print “It’s Over”.\n",
    "\n",
    "If user enters a positive number just continue in the loop and print “Good Going”"
   ]
  },
  {
   "cell_type": "code",
   "execution_count": 3,
   "metadata": {},
   "outputs": [
    {
     "name": "stdout",
     "output_type": "stream",
     "text": [
      "Enter a number= :0\n",
      "It's Zero\n",
      "Enter a number= :1\n",
      "Good going\n",
      "Enter a number= :-1\n",
      "It's Over\n"
     ]
    }
   ],
   "source": [
    "while True:\n",
    "    i= int(input('Enter a number= :'))\n",
    "    if i<0:\n",
    "        print(\"It's Over\") \n",
    "        break\n",
    "    elif i>0:\n",
    "        print(\"Good going\")\n",
    "        continue       \n",
    "    else:\n",
    "        print(\"It's Zero\")"
   ]
  },
  {
   "cell_type": "markdown",
   "metadata": {},
   "source": [
    "#### 5. Write a program in Python which will find all such numbers which are divisible by 7 but are not a\n",
    "multiple of 5, between 2000 and 3200."
   ]
  },
  {
   "cell_type": "code",
   "execution_count": 8,
   "metadata": {},
   "outputs": [
    {
     "name": "stdout",
     "output_type": "stream",
     "text": [
      "2002\n",
      "2009\n",
      "2016\n",
      "2023\n",
      "2037\n",
      "2044\n",
      "2051\n",
      "2058\n",
      "2072\n",
      "2079\n",
      "2086\n",
      "2093\n",
      "2107\n",
      "2114\n",
      "2121\n",
      "2128\n",
      "2142\n",
      "2149\n",
      "2156\n",
      "2163\n",
      "2177\n",
      "2184\n",
      "2191\n",
      "2198\n",
      "2212\n",
      "2219\n",
      "2226\n",
      "2233\n",
      "2247\n",
      "2254\n",
      "2261\n",
      "2268\n",
      "2282\n",
      "2289\n",
      "2296\n",
      "2303\n",
      "2317\n",
      "2324\n",
      "2331\n",
      "2338\n",
      "2352\n",
      "2359\n",
      "2366\n",
      "2373\n",
      "2387\n",
      "2394\n",
      "2401\n",
      "2408\n",
      "2422\n",
      "2429\n",
      "2436\n",
      "2443\n",
      "2457\n",
      "2464\n",
      "2471\n",
      "2478\n",
      "2492\n",
      "2499\n",
      "2506\n",
      "2513\n",
      "2527\n",
      "2534\n",
      "2541\n",
      "2548\n",
      "2562\n",
      "2569\n",
      "2576\n",
      "2583\n",
      "2597\n",
      "2604\n",
      "2611\n",
      "2618\n",
      "2632\n",
      "2639\n",
      "2646\n",
      "2653\n",
      "2667\n",
      "2674\n",
      "2681\n",
      "2688\n",
      "2702\n",
      "2709\n",
      "2716\n",
      "2723\n",
      "2737\n",
      "2744\n",
      "2751\n",
      "2758\n",
      "2772\n",
      "2779\n",
      "2786\n",
      "2793\n",
      "2807\n",
      "2814\n",
      "2821\n",
      "2828\n",
      "2842\n",
      "2849\n",
      "2856\n",
      "2863\n",
      "2877\n",
      "2884\n",
      "2891\n",
      "2898\n",
      "2912\n",
      "2919\n",
      "2926\n",
      "2933\n",
      "2947\n",
      "2954\n",
      "2961\n",
      "2968\n",
      "2982\n",
      "2989\n",
      "2996\n",
      "3003\n",
      "3017\n",
      "3024\n",
      "3031\n",
      "3038\n",
      "3052\n",
      "3059\n",
      "3066\n",
      "3073\n",
      "3087\n",
      "3094\n",
      "3101\n",
      "3108\n",
      "3122\n",
      "3129\n",
      "3136\n",
      "3143\n",
      "3157\n",
      "3164\n",
      "3171\n",
      "3178\n",
      "3192\n",
      "3199\n"
     ]
    }
   ],
   "source": [
    "for i in range(2000, 3200):\n",
    "    if (i%7==0 and i%5!=0):\n",
    "        print(i)\n",
    "        \n",
    "## Or to print as a list:\n",
    "\n",
    "#List = [i for i in range(2000, 3200) if i % 7 == 0 if i % 5 != 0] \n",
    "#print(List)"
   ]
  },
  {
   "cell_type": "markdown",
   "metadata": {},
   "source": [
    "#### 6. What is the output of the following code examples?"
   ]
  },
  {
   "cell_type": "code",
   "execution_count": 9,
   "metadata": {},
   "outputs": [
    {
     "ename": "TypeError",
     "evalue": "'int' object is not iterable",
     "output_type": "error",
     "traceback": [
      "\u001b[1;31m\u001b[0m",
      "\u001b[1;31mTypeError\u001b[0mTraceback (most recent call last)",
      "\u001b[1;32m<ipython-input-9-1f40e284ee43>\u001b[0m in \u001b[0;36m<module>\u001b[1;34m()\u001b[0m\n\u001b[0;32m      1\u001b[0m \u001b[0mx\u001b[0m\u001b[1;33m=\u001b[0m\u001b[1;36m123\u001b[0m\u001b[1;33m\u001b[0m\u001b[0m\n\u001b[1;32m----> 2\u001b[1;33m \u001b[1;32mfor\u001b[0m \u001b[0mi\u001b[0m \u001b[1;32min\u001b[0m \u001b[0mx\u001b[0m\u001b[1;33m:\u001b[0m\u001b[1;33m\u001b[0m\u001b[0m\n\u001b[0m\u001b[0;32m      3\u001b[0m     \u001b[1;32mprint\u001b[0m\u001b[1;33m(\u001b[0m\u001b[0mi\u001b[0m\u001b[1;33m)\u001b[0m\u001b[1;33m\u001b[0m\u001b[0m\n\u001b[0;32m      4\u001b[0m \u001b[1;33m\u001b[0m\u001b[0m\n\u001b[0;32m      5\u001b[0m \u001b[1;31m# Ouput is:\u001b[0m\u001b[1;33m\u001b[0m\u001b[1;33m\u001b[0m\u001b[0m\n",
      "\u001b[1;31mTypeError\u001b[0m: 'int' object is not iterable"
     ]
    }
   ],
   "source": [
    "x=123\n",
    "for i in x:\n",
    "    print(i)\n",
    "    \n",
    "# Ouput is:\n",
    "# TypeError: 'int' object is not iterable"
   ]
  },
  {
   "cell_type": "code",
   "execution_count": 10,
   "metadata": {},
   "outputs": [
    {
     "name": "stdout",
     "output_type": "stream",
     "text": [
      "0\n",
      "error\n",
      "1\n",
      "error\n",
      "2\n"
     ]
    }
   ],
   "source": [
    "i=0\n",
    "while i < 5:\n",
    "    print(i)\n",
    "    i += 1\n",
    "    if i == 3:\n",
    "        break\n",
    "    else:\n",
    "        print('error')\n",
    "\n",
    "# Ouput is:\n",
    "# 0\n",
    "# error\n",
    "# 1\n",
    "# error\n",
    "# 2"
   ]
  },
  {
   "cell_type": "code",
   "execution_count": 11,
   "metadata": {},
   "outputs": [
    {
     "name": "stdout",
     "output_type": "stream",
     "text": [
      "0\n",
      "1\n",
      "2\n",
      "3\n",
      "4\n"
     ]
    }
   ],
   "source": [
    "count = 0\n",
    "while True:\n",
    "    print(count)\n",
    "    count += 1\n",
    "    if count >= 5:\n",
    "        break\n",
    "\n",
    "# 0\n",
    "# 1\n",
    "# 2\n",
    "# 3\n",
    "# 4"
   ]
  },
  {
   "cell_type": "markdown",
   "metadata": {},
   "source": [
    "#### 7. Write a program that prints all the numbers from 0 to 6 except 3 and 6.\n",
    "\n",
    "Expected output: 0 1 2 4 5\n",
    "\n",
    "Note: Use ‘continue’ statement"
   ]
  },
  {
   "cell_type": "code",
   "execution_count": 12,
   "metadata": {},
   "outputs": [
    {
     "name": "stdout",
     "output_type": "stream",
     "text": [
      "0\n",
      "1\n",
      "2\n",
      "4\n",
      "5\n"
     ]
    }
   ],
   "source": [
    "for x in range(7):\n",
    "    if (x == 3 or x==6):\n",
    "        continue  \n",
    "    print(x)"
   ]
  },
  {
   "cell_type": "markdown",
   "metadata": {},
   "source": [
    "#### 8. Write a program that accepts a string as an input from the user and calculate the number of digits and letters.\n",
    "\n",
    "Sample input: consul72\n",
    "\n",
    "Expected output: Letters 6 Digits 2"
   ]
  },
  {
   "cell_type": "code",
   "execution_count": 13,
   "metadata": {},
   "outputs": [
    {
     "name": "stdout",
     "output_type": "stream",
     "text": [
      "Enter a string = 4rfg\n",
      "Letters : 3\n",
      "Digits : 1\n"
     ]
    }
   ],
   "source": [
    "# It is not taking input while it worked everywhere else.\n",
    "s = (raw_input(\"Enter a string = \"))\n",
    "\n",
    "digit=0\n",
    "letter=0\n",
    "\n",
    "for i in s:\n",
    "    if i.isdigit():\n",
    "        digit=digit+1\n",
    "        \n",
    "    elif i.isalpha():\n",
    "        letter=letter+1\n",
    "    else:\n",
    "        pass\n",
    "    \n",
    "print 'Letters :', letter\n",
    "print 'Digits :', digit"
   ]
  },
  {
   "cell_type": "markdown",
   "metadata": {},
   "source": [
    "#### 9. Read the two parts of the question below:"
   ]
  },
  {
   "cell_type": "markdown",
   "metadata": {},
   "source": [
    "Write a program such that it asks users to “guess the lucky number”. If the correct number is guessed the program stops, otherwise it continues forever."
   ]
  },
  {
   "cell_type": "code",
   "execution_count": 1,
   "metadata": {},
   "outputs": [
    {
     "name": "stdout",
     "output_type": "stream",
     "text": [
      "Guess the lucky number = 4\n",
      "Guess again!\n",
      "Guess the lucky number = 6\n",
      "Guess again!\n",
      "Guess the lucky number = 10\n",
      "Correct guess!\n"
     ]
    }
   ],
   "source": [
    "while True:\n",
    "    q = (input(\"Guess the lucky number = \"))\n",
    "   \n",
    "    if q != 10:\n",
    "        print (\"Guess again!\")\n",
    "        continue\n",
    "    else:\n",
    "        print (\"Correct guess!\")\n",
    "        break"
   ]
  },
  {
   "cell_type": "markdown",
   "metadata": {},
   "source": [
    "\n",
    "Modify the program so that it asks users whether they want to guess again each time. Use two\n",
    "variables, ‘number’ for the number and ‘answer’ for the answer to the question whether they want\n",
    "to continue guessing. The program stops if the user guesses the correct number or answers “no”. (\n",
    "The program continues as long as a user has not answered “no” and has not guessed the correct\n",
    "number)"
   ]
  },
  {
   "cell_type": "code",
   "execution_count": 8,
   "metadata": {},
   "outputs": [
    {
     "name": "stdout",
     "output_type": "stream",
     "text": [
      "Guess the lucky number = 6\n",
      "This is not the lucky number\n",
      "Would you like to guess again? yes or no = YES\n",
      "Guess the lucky number = 4\n",
      "This is not the lucky number\n",
      "Would you like to guess again? yes or no = yes\n",
      "Guess the lucky number = 10\n",
      "That is the lucky number\n"
     ]
    }
   ],
   "source": [
    "while True:\n",
    "    number = (input(\"Guess the lucky number = \"))\n",
    "\n",
    "    if number == 10:\n",
    "        print (\"That is the lucky number\")\n",
    "        break\n",
    "    else:\n",
    "        print (\"This is not the lucky number\")\n",
    "        answer = raw_input(\"Would you like to guess again? yes or no = \")\n",
    "        if answer.lower() == 'yes':\n",
    "            continue\n",
    "        else:\n",
    "            break"
   ]
  },
  {
   "cell_type": "markdown",
   "metadata": {},
   "source": [
    "#### 10. Write a program that asks five times to guess the lucky number. Use a while loop and a counter, such as\n",
    "\n",
    "counter=1\n",
    "\n",
    "While counter <= 5:\n",
    "    \n",
    "    print(“Type in the”, counter, “number”\n",
    "    \n",
    "    counter=counter+1\n",
    "The program asks for five guesses (no matter whether the correct number was guessed or not). If the\n",
    "correct number is guessed, the program outputs “Good guess!”, otherwise it outputs “Try again!”.\n",
    "After the fifth guess it stops and prints “Game over!”."
   ]
  },
  {
   "cell_type": "code",
   "execution_count": 3,
   "metadata": {},
   "outputs": [
    {
     "name": "stdout",
     "output_type": "stream",
     "text": [
      "Guess the lucky number = 1\n",
      "Try again!\n",
      "Guess the lucky number = 2\n",
      "Try again!\n",
      "Guess the lucky number = 3\n",
      "Try again!\n",
      "Guess the lucky number = 10\n",
      "Good guess!\n",
      "Guess the lucky number = 10\n",
      "Good guess!\n",
      "Game over!\n"
     ]
    }
   ],
   "source": [
    "counter = 1\n",
    "while counter <= 5:\n",
    "    number = input(\"Guess the lucky number = \")\n",
    "    counter = counter + 1\n",
    "\n",
    "    if number != 10:\n",
    "        print (\"Try again!\")\n",
    "    else:\n",
    "        print (\"Good guess!\")\n",
    "else:\n",
    "    print (\"Game over!\")"
   ]
  },
  {
   "cell_type": "markdown",
   "metadata": {},
   "source": [
    "#### 11. In the previous question, insert break after the “Good guess!” print statement. break will terminate the while loop so that users do not have to continue guessing after they found the number. If the user does not guess the number at all, print “Sorry but that was not very successful”."
   ]
  },
  {
   "cell_type": "code",
   "execution_count": 6,
   "metadata": {},
   "outputs": [
    {
     "name": "stdout",
     "output_type": "stream",
     "text": [
      "Guess the lucky number = 3\n",
      "Try again!\n",
      "Guess the lucky number = 10\n",
      "Good guess!\n"
     ]
    }
   ],
   "source": [
    "counter = 1\n",
    "while counter < 5:\n",
    "    number = input(\"Guess the lucky number = \")\n",
    "    counter = counter + 1\n",
    "    \n",
    "    if number != 10:\n",
    "        print (\"Try again!\")\n",
    "    else:\n",
    "        print (\"Good guess!\")\n",
    "        break\n",
    "else:\n",
    "    print \"Sorry but that was not very successful\""
   ]
  },
  {
   "cell_type": "code",
   "execution_count": null,
   "metadata": {},
   "outputs": [],
   "source": [
    "#---------------------------END-------------------------#"
   ]
  }
 ],
 "metadata": {
  "kernelspec": {
   "display_name": "Python 2",
   "language": "python",
   "name": "python2"
  },
  "language_info": {
   "codemirror_mode": {
    "name": "ipython",
    "version": 2
   },
   "file_extension": ".py",
   "mimetype": "text/x-python",
   "name": "python",
   "nbconvert_exporter": "python",
   "pygments_lexer": "ipython2",
   "version": "2.7.16"
  }
 },
 "nbformat": 4,
 "nbformat_minor": 2
}

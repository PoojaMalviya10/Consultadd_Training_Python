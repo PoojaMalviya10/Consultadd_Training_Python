{
 "cells": [
  {
   "cell_type": "markdown",
   "metadata": {},
   "source": [
    "### TASK 3 - DATA STRUCTURES"
   ]
  },
  {
   "cell_type": "code",
   "execution_count": 1,
   "metadata": {},
   "outputs": [],
   "source": [
    "from functools import reduce"
   ]
  },
  {
   "cell_type": "markdown",
   "metadata": {},
   "source": [
    "1. Create a list of 10 elements of four different data types like int, string, complex and float."
   ]
  },
  {
   "cell_type": "code",
   "execution_count": 2,
   "metadata": {},
   "outputs": [
    {
     "name": "stdout",
     "output_type": "stream",
     "text": [
      "[1, 2, 4, 't', 'p', (2+4j), (4+2j), 2.4, 4.2, 1.2]\n"
     ]
    }
   ],
   "source": [
    "List = [1,2,4,'t','p',2+4j,4+2j,2.4,4.2,1.2]\n",
    "print(List)"
   ]
  },
  {
   "cell_type": "markdown",
   "metadata": {},
   "source": [
    "2. Create a list of size 5 and execute the slicing structure"
   ]
  },
  {
   "cell_type": "code",
   "execution_count": 3,
   "metadata": {},
   "outputs": [
    {
     "name": "stdout",
     "output_type": "stream",
     "text": [
      "[1, 2, 4]\n",
      "['t', 'p']\n",
      "[1, 2, 4, 't']\n",
      "['p', 't', 4, 2, 1]\n"
     ]
    }
   ],
   "source": [
    "l = [1,2,4,'t','p']\n",
    "\n",
    "print(l[0:3]) \n",
    "print(l[3:])\n",
    "print(l[:4])\n",
    "print(l[::-1])"
   ]
  },
  {
   "cell_type": "markdown",
   "metadata": {},
   "source": [
    "3. Write a program to get the sum and multiply of all the items in a given list."
   ]
  },
  {
   "cell_type": "code",
   "execution_count": 4,
   "metadata": {},
   "outputs": [
    {
     "name": "stdout",
     "output_type": "stream",
     "text": [
      "10\n",
      "24\n"
     ]
    }
   ],
   "source": [
    "# Sum\n",
    "\n",
    "x=reduce(lambda x,y:x+y,[1,2,3,4])\n",
    "print(x)\n",
    "\n",
    "# Multiplication\n",
    "\n",
    "x=reduce(lambda x,y:x*y,[1,2,3,4])\n",
    "print(x)"
   ]
  },
  {
   "cell_type": "markdown",
   "metadata": {},
   "source": [
    "4. Find the largest and smallest number from a given list."
   ]
  },
  {
   "cell_type": "code",
   "execution_count": 5,
   "metadata": {},
   "outputs": [
    {
     "name": "stdout",
     "output_type": "stream",
     "text": [
      "smallest element is  2\n",
      "smallest element is  30\n"
     ]
    }
   ],
   "source": [
    "list = ['a',2,'b',4]\n",
    "list.sort()\n",
    "print 'smallest element is ', min(list)\n",
    "\n",
    "list = [10,2,30,4]\n",
    "list.sort()\n",
    "print 'smallest element is ', max(list)"
   ]
  },
  {
   "cell_type": "markdown",
   "metadata": {},
   "source": [
    "5. Create a new list which contains the specified numbers after removing the even numbers from a\n",
    "predefined list."
   ]
  },
  {
   "cell_type": "code",
   "execution_count": 6,
   "metadata": {},
   "outputs": [
    {
     "name": "stdout",
     "output_type": "stream",
     "text": [
      "[1, 3, 11, 15]\n"
     ]
    }
   ],
   "source": [
    "l = [1,3,6,8,11,12,15,16,20]\n",
    "x=filter(lambda x:x%2!=0, l)\n",
    "print(x)"
   ]
  },
  {
   "cell_type": "markdown",
   "metadata": {},
   "source": [
    "6. Create a list of elements such that it contains the squares of the first and last 5 elements between\n",
    "1 and30 (both included)."
   ]
  },
  {
   "cell_type": "code",
   "execution_count": 7,
   "metadata": {},
   "outputs": [
    {
     "name": "stdout",
     "output_type": "stream",
     "text": [
      "([1, 4, 9, 16, 25], [676, 729, 784, 841, 900])\n"
     ]
    }
   ],
   "source": [
    "l = []\n",
    "def printValues():\n",
    "    for i in range(1,31):\n",
    "        l.append(i**2)\n",
    "    print(l[:5],l[-5:])\n",
    "\n",
    "printValues()"
   ]
  },
  {
   "cell_type": "markdown",
   "metadata": {},
   "source": [
    "7. Write a program to replace the last element in a list with another list.\n",
    "\n",
    "Sample input: [1,3,5,7,9,10], [2,4,6,8]\n",
    "\n",
    "Expected output: [1,3,5,7,9,2,4,6,8]"
   ]
  },
  {
   "cell_type": "code",
   "execution_count": 8,
   "metadata": {},
   "outputs": [
    {
     "name": "stdout",
     "output_type": "stream",
     "text": [
      "[1, 3, 5, 7, 9, 2, 4, 6, 8]\n"
     ]
    }
   ],
   "source": [
    "a = [1,3,5,7,9,10]\n",
    "b = [2,4,6,8]\n",
    "a[5:] = b\n",
    "print(a)"
   ]
  },
  {
   "cell_type": "markdown",
   "metadata": {},
   "source": [
    "8. Create a new dictionary by concatenating the following two dictionaries:\n",
    "\n",
    "Sample input: a={1:10,2:20} b={3:30,4:40}\n",
    "\n",
    "Expected output: {1:10,2:20,3:30,4:40}"
   ]
  },
  {
   "cell_type": "code",
   "execution_count": 9,
   "metadata": {},
   "outputs": [
    {
     "name": "stdout",
     "output_type": "stream",
     "text": [
      "{1: 10, 2: 20, 3: 30, 4: 40}\n"
     ]
    }
   ],
   "source": [
    "a = {1:10,2:20}\n",
    "b = {3:30,4:40}\n",
    "a.update(b)\n",
    "print(a)"
   ]
  },
  {
   "cell_type": "markdown",
   "metadata": {},
   "source": [
    "9. Create a dictionary that contain numbers in the form(x:x*x) where x takes all the values between 1\n",
    "and n(both 1 and n included).\n",
    "\n",
    "Sample input: n=5\n",
    "\n",
    "Expected output: {1:1, 2:4, 3:9, 4:16, 5:25}"
   ]
  },
  {
   "cell_type": "code",
   "execution_count": 10,
   "metadata": {},
   "outputs": [
    {
     "name": "stdout",
     "output_type": "stream",
     "text": [
      "Input a number 6\n",
      "{1: 1, 2: 4, 3: 9, 4: 16, 5: 25, 6: 36}\n"
     ]
    }
   ],
   "source": [
    "n=int(input(\"Input a number \"))\n",
    "d = dict()\n",
    "\n",
    "for x in range(1,n+1):\n",
    "    d[x]=x*x\n",
    "\n",
    "print(d)"
   ]
  },
  {
   "cell_type": "markdown",
   "metadata": {},
   "source": [
    "10. Write a program which accepts a sequence of comma-separated numbers from console and\n",
    "generates a list and a tuple which contains every number in the form of string.\n",
    "\n",
    "Sample input: 34,67,55,33,12,98\n",
    "\n",
    "Expected output: [‘34’,’67’,’55’,’33’,’12’,’98’] (‘34’,’67’,’55’,’33’,’12’,’98’)"
   ]
  },
  {
   "cell_type": "code",
   "execution_count": 12,
   "metadata": {},
   "outputs": [
    {
     "name": "stdout",
     "output_type": "stream",
     "text": [
      "Input some comma seprated numbers :3,4,53,4,5\n",
      "['3', ',', '4', ',', '5', '3', ',', '4', ',', '5']\n",
      "('3', ',', '4', ',', '5', '3', ',', '4', ',', '5')\n"
     ]
    }
   ],
   "source": [
    "l = []\n",
    "\n",
    "def List_Tuple():\n",
    "    nums = raw_input(\"Input some comma seprated numbers :\")\n",
    "    \n",
    "    for i in nums:\n",
    "        l.append(i)\n",
    "        \n",
    "    print(l)\n",
    "    print(tuple(l))\n",
    "    \n",
    "List_Tuple()"
   ]
  },
  {
   "cell_type": "code",
   "execution_count": 13,
   "metadata": {},
   "outputs": [
    {
     "name": "stdout",
     "output_type": "stream",
     "text": [
      "Input some comma seprated numbers :234567\n",
      "['2', '3', '4', '5', '6', '7']\n",
      "('2', '3', '4', '5', '6', '7')\n"
     ]
    }
   ],
   "source": [
    "# This is giving right output\n",
    "l = []\n",
    "\n",
    "def List_Tuple():\n",
    "    nums = raw_input(\"Input some numbers :\")\n",
    "    \n",
    "    for i in nums:\n",
    "        l.append(i)\n",
    "        \n",
    "    print(l)\n",
    "    print(tuple(l))\n",
    "    \n",
    "List_Tuple()"
   ]
  },
  {
   "cell_type": "code",
   "execution_count": 14,
   "metadata": {},
   "outputs": [],
   "source": [
    "#---------------------------END-------------------------#"
   ]
  }
 ],
 "metadata": {
  "kernelspec": {
   "display_name": "Python 2",
   "language": "python",
   "name": "python2"
  },
  "language_info": {
   "codemirror_mode": {
    "name": "ipython",
    "version": 2
   },
   "file_extension": ".py",
   "mimetype": "text/x-python",
   "name": "python",
   "nbconvert_exporter": "python",
   "pygments_lexer": "ipython2",
   "version": "2.7.16"
  }
 },
 "nbformat": 4,
 "nbformat_minor": 2
}
